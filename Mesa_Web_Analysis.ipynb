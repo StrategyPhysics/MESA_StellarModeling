{
 "cells": [
  {
   "cell_type": "markdown",
   "id": "fe8e4efb",
   "metadata": {},
   "source": [
    "# MESA Stellar Structure Modeling\n",
    "Kevin Kearney | RIT Astrophysical Science and Technology (AST) | kjk9308@g.rit.edu "
   ]
  },
  {
   "cell_type": "markdown",
   "id": "57a251b9",
   "metadata": {},
   "source": [
    "## MESA Desktop vs MESA-Web\n",
    "Installing and running MESA isn’t a straightforward task; its a complex piece of software, and requires a fair bit of computer expertise to use. Arizona State University created a web-based interface to MESA, called MESA-Web. This interface allows you to set up various parameters (e.g., the stellar mass) and then submit a calculation to a computer running MESA.  Below are some links to understanding and using MESA/MESA-Web.\n",
    "\n",
    "Good tutorial [University of Wisconson Astronomy](http://user.astro.wisc.edu/~townsend/resource/teaching/astro-310-F19/python-lab/mesa-web-intro.html).  This notebook is based on the tutorial.   \n",
    "Primary Publication [Modules for Experiments in Stellar Astrophysics (MESA)](https://ui.adsabs.harvard.edu/abs/2011ApJS..192....3P/abstract)  \n",
    "\n",
    "**MESA-Web Site**  \n",
    "[Calculation Submission](http://user.astro.wisc.edu/~townsend/static.php?ref=mesa-web-submit)  \n",
    "[Explaining the Input Parameters](http://user.astro.wisc.edu/~townsend/static.php?ref=mesa-web-input)  \n",
    "[Explaining the Output](http://user.astro.wisc.edu/~townsend/static.php?ref=mesa-web-output)"
   ]
  },
  {
   "cell_type": "markdown",
   "id": "41840222",
   "metadata": {},
   "source": [
    "## Using the `mesa_web.py` module to analyze MESA output data  \n",
    "This notebook shows how to extract information from a MESA code run.  It is detailed and verbose (prints a lot of stuff out).  It is based on a tutorial from [University of Wisconson Astronomy](http://user.astro.wisc.edu/~townsend/resource/teaching/astro-310-F19/python-lab/python-mesa-web.html).  \n",
    "\n",
    "The notebook requires (imports) the `mesa_web.py` module, which can be downloaded from [here](http://user.astro.wisc.edu/~townsend/resource/teaching/astro-310-F19/python-lab/mesa_web.py).  Put that module in the same directory as this notebook file. The `mesa_web.py` module was provided by the same group who developed MESA-Web, however, there should be no difference in the output from the installed version of `MESA` vs. `MESA-Web`.  \n",
    "\n",
    "You will also need a folder of output from your MESA run (if you used MESA-Web you receieved it by e-mail and have unzipped it); it will have a name like `MESA-Web_Job_11082321376`, with a different 11-digit number.  Place that folder in the same location as this notebook file.  A sample folder is provided with this notebook, and you might want to run through the whole notebook first with the known-good example data set.  "
   ]
  },
  {
   "cell_type": "code",
   "execution_count": 52,
   "id": "989bad25",
   "metadata": {},
   "outputs": [],
   "source": [
    "import numpy as np\n",
    "import pandas as pd\n",
    "import matplotlib.pyplot as plt\n",
    "from pathlib import Path\n",
    "import re                 # regex\n",
    "import pprint\n",
    "%matplotlib inline\n",
    "import mesa_web as mw    # python module (file): should be placed in the same directory as this notebook"
   ]
  },
  {
   "cell_type": "markdown",
   "id": "79415f7f",
   "metadata": {},
   "source": [
    "### Set up the path to your MESA run folder\n",
    "We use the pathlib module to maintain platform independence.  Again, the assumption is that the MESA run folder is in the current working directory (along with this Python notebook). "
   ]
  },
  {
   "cell_type": "code",
   "execution_count": 53,
   "id": "61a4ef49",
   "metadata": {},
   "outputs": [
    {
     "name": "stdout",
     "output_type": "stream",
     "text": [
      "C:\\Users\\KevinKearney\\code\\MESA\\MESA-Web_Job_11082321376\n"
     ]
    }
   ],
   "source": [
    "mesaPath = Path.cwd() / 'MESA-Web_Job_11082321376'   # PUT YOUR MESA filename here (just change the 11-digit run number)\n",
    "print(mesaPath)"
   ]
  },
  {
   "cell_type": "markdown",
   "id": "7942d1ec",
   "metadata": {},
   "source": [
    "## Access the MESA configuration information\n",
    "MESA saves your run configuration in file `input.txt`.  We can read that into a `DICT` for later use (for instance, labeling a plot).  "
   ]
  },
  {
   "cell_type": "code",
   "execution_count": 54,
   "id": "0150a304",
   "metadata": {},
   "outputs": [
    {
     "data": {
      "text/plain": [
       "{'Job': '11082321376',\n",
       " 'Initial Mass': ' 1.0 (solar mass)',\n",
       " 'Nuclear Reaction Network': ' basic.net',\n",
       " 'Sampled Nuclear Reaction': ' none',\n",
       " 'Initial Metallicity': ' 0.02',\n",
       " 'Mixing Length Alpha': ' 2.0',\n",
       " 'Mixing Length Theory Implementation': ' Cox',\n",
       " 'Convective Overshoot f': ' 0.0001',\n",
       " 'Convective Overshoot f0': ' 0.0005',\n",
       " 'Semi-Convection Alpha': ' 0.01',\n",
       " 'Thermohaline Alpha': ' 1.0',\n",
       " 'Thermohaline Mixing Implementation': ' Kippenhahn',\n",
       " 'Convective Premixing': ' .false.',\n",
       " 'Red Giant Branch Wind Scheme': ' Reimers',\n",
       " 'RGB Wind Scaling Factor': ' 0.1',\n",
       " 'Asymptotic Giant Branch Wind Scheme': ' Blocker',\n",
       " 'AGB Wind Scaling Factor': ' 0.1',\n",
       " 'Initial Rotational Value': ' 0.0 (omega_initial/omega_critical)',\n",
       " 'Variance Control Target': ' 1e-2',\n",
       " 'Mesh Delta Coefficient': ' 2.0',\n",
       " 'dX_nuc_drop_min_X_limit': ' 1e-2',\n",
       " 'MESA Release': ' r12778'}"
      ]
     },
     "execution_count": 54,
     "metadata": {},
     "output_type": "execute_result"
    }
   ],
   "source": [
    "mesaIndex = mesaPath / 'input.txt'\n",
    "f = open(mesaIndex, 'r')\n",
    "mesaConfig = {}\n",
    "\n",
    "# First line requires special handling to extract the run number\n",
    "first_line = f.readline()\n",
    "job = re.search('\\d{11}', first_line)\n",
    "mesaConfig['Job'] = job.group(0).strip()\n",
    "\n",
    "# Pull out the rest of the key:value pairs\n",
    "for line in f:\n",
    "    listedline = line.strip().split(':', 1) # split around the = sign\n",
    "    if len(listedline) > 1: # we have the = sign in there\n",
    "        #print(listedline[0].strip(), listedline[1].strip())\n",
    "        mesaConfig[listedline[0].strip()] = listedline[1]  #.strip()\n",
    "        \n",
    "# Show it\n",
    "mesaConfig"
   ]
  },
  {
   "cell_type": "markdown",
   "id": "57e3fe1f",
   "metadata": {},
   "source": [
    "## Access the History Data\n",
    "The single `history.data` file contains the basic stellar parameters with time.  It is BIG, and will take a few seconds to read in.  \n",
    "**NOTE:  there is some ambiguity in the MESA documenatation as to the name of the history file.**  Our runs produce a file called `trimmed_history.data`.  If that is not the case, just modify the first line of code below.  "
   ]
  },
  {
   "cell_type": "code",
   "execution_count": 55,
   "id": "aaef8a64",
   "metadata": {},
   "outputs": [],
   "source": [
    "mesaHistory = mesaPath / 'trimmed_history.data'\n",
    "# mesaHistory = mesaPath / 'history.data'       # uncomment if this is the name of the file\n",
    "hist_data = mw.read_history(mesaHistory)"
   ]
  },
  {
   "cell_type": "code",
   "execution_count": 56,
   "id": "176e2d68",
   "metadata": {},
   "outputs": [
    {
     "name": "stdout",
     "output_type": "stream",
     "text": [
      "version_number\n",
      "compiler\n",
      "build\n",
      "MESA_SDK_version\n",
      "math_backend\n",
      "date\n",
      "burn_min1\n",
      "burn_min2\n",
      "model_number\n",
      "star_age\n",
      "star_mass\n",
      "log_L\n",
      "log_R\n",
      "log_Teff\n",
      "log_center_T\n",
      "log_center_Rho\n",
      "log_center_P\n",
      "center_h1\n",
      "center_he3\n",
      "center_he4\n",
      "center_c12\n",
      "center_n14\n",
      "center_o16\n",
      "center_ne20\n",
      "center_mg24\n",
      "center_si28\n",
      "center_s32\n",
      "center_ar36\n",
      "center_ca40\n",
      "center_ti44\n",
      "center_cr48\n",
      "center_fe52\n",
      "center_fe54\n",
      "center_fe56\n",
      "center_ni56\n",
      "center_degeneracy\n",
      "center_ye\n",
      "center_entropy\n",
      "compactness_parameter\n",
      "dynamic_timescale\n",
      "kh_timescale\n",
      "nuc_timescale\n",
      "pp\n",
      "cno\n",
      "tri_alfa\n",
      "log_LH\n",
      "log_LHe\n",
      "log_LZ\n",
      "log_Lneu\n",
      "he_core_mass\n",
      "c_core_mass\n",
      "o_core_mass\n",
      "si_core_mass\n",
      "fe_core_mass\n",
      "he_core_radius\n",
      "c_core_radius\n",
      "o_core_radius\n",
      "si_core_radius\n",
      "fe_core_radius\n",
      "max_abs_v_velocity\n",
      "surf_avg_omega_div_omega_crit\n",
      "log_total_angular_momentum\n",
      "surf_avg_omega\n",
      "surf_avg_v_rot\n",
      "star_mdot\n"
     ]
    }
   ],
   "source": [
    "# The data is returned as a dict, and we can inspect the available keys\n",
    "for k in hist_data.keys():  print(k)"
   ]
  },
  {
   "cell_type": "code",
   "execution_count": 57,
   "id": "2f33d5d0",
   "metadata": {},
   "outputs": [
    {
     "name": "stdout",
     "output_type": "stream",
     "text": [
      "MESA_SDK_version:  \"x86_64-linux-20.3.2\"\n",
      "Number of time steps:  13956\n",
      "log_Teff:  [3.65513531 3.65435121 3.65346644]\n",
      "log_L:  [2.51063932 2.50744726 2.503843  ]\n"
     ]
    }
   ],
   "source": [
    "# Extract some data from hist_data, using dict indexing\n",
    "\n",
    "print('MESA_SDK_version: ', hist_data['MESA_SDK_version'])\n",
    "print('Number of time steps: ', len(hist_data['log_Teff'])) # they are all the same length, so just pick one\n",
    "print('log_Teff: ', hist_data['log_Teff'][0:3])             # print the first few entries\n",
    "print('log_L: ', hist_data['log_L'][0:3])                   # print the first few entries\n",
    "\n",
    "log_Teff = hist_data['log_Teff'] # log(Teff/K)\n",
    "log_L = hist_data['log_L']       # log(L/Lsun)"
   ]
  },
  {
   "cell_type": "markdown",
   "id": "9f5f008f",
   "metadata": {},
   "source": [
    "#### HR Diagram\n",
    "\n",
    "We will plot an HR diagram, but first we are going to calculate where the sun would fall so we can overplot that as well"
   ]
  },
  {
   "cell_type": "code",
   "execution_count": 62,
   "id": "05aee7fd",
   "metadata": {},
   "outputs": [
    {
     "name": "stdout",
     "output_type": "stream",
     "text": [
      "Model number corresponding to present-day sun:  10078\n",
      "log(L_H) at present     : 0.00025811506911435427\n",
      "log(L) at present       : 2.011475491066917\n",
      "log(Teff) at present    : 3.6334551673998483\n",
      "log(R) at present       : 1.262086247186388\n"
     ]
    }
   ],
   "source": [
    "# Extract log(LH) from hist_data and Find the index where log(LH) is closest to zero (i.e., LH closest to 1 Lsun), \n",
    "# as representative of the present-day Sun.\n",
    "\n",
    "log_LH = hist_data['log_LH']\n",
    "i_pres = np.argmin(np.abs(log_LH))  # np.argmin() returns the index of the smallest element\n",
    "\n",
    "# Print out values at this index\n",
    "print('Model number corresponding to present-day sun: ', i_pres)\n",
    "print('log(L_H) at present     :', log_LH[i_pres])\n",
    "print('log(L) at present       :', log_L[i_pres])\n",
    "print('log(Teff) at present    :', log_Teff[i_pres])\n",
    "print('log(R) at present       :', hist_data['log_R'][i_pres])"
   ]
  },
  {
   "cell_type": "code",
   "execution_count": null,
   "id": "c9a8f464",
   "metadata": {},
   "outputs": [],
   "source": [
    "plt.figure()\n",
    "\n",
    "plt.plot(log_Teff, log_L)\n",
    "\n",
    "plt.xlim(4.0, 3.5)\n",
    "plt.ylim(-1,4)\n",
    "\n",
    "plt.xlabel('log (T/K')\n",
    "plt.ylabel('log (L/Lsun)')\n",
    "\n",
    "plt.title('Hertzsprung-Russel Diagram for Sun')\n",
    "\n",
    "plt.scatter(log_Teff[i_pres], log_L[i_pres], color='r', label='Present Day')\n",
    "plt.legend()"
   ]
  },
  {
   "cell_type": "markdown",
   "id": "34f082ac",
   "metadata": {},
   "source": [
    "### Hydrogen Depletion / Helium Enrichment"
   ]
  },
  {
   "cell_type": "code",
   "execution_count": null,
   "id": "0b13878f",
   "metadata": {},
   "outputs": [],
   "source": [
    "# Plot central hydrogen abundance versus age (measured since the start of the calculation)\n",
    "\n",
    "X_c = hist_data['center_h1']\n",
    "Y_c = hist_data['center_he4']\n",
    "age = hist_data['star_age']\n",
    "\n",
    "plt.figure()\n",
    "\n",
    "plt.plot(age/1E9, X_c, color='b', label='Xc - Hydrogen')\n",
    "plt.plot(age/1E9, Y_c, color='r', label='Yc - Helium 4')\n",
    "\n",
    "plt.xlabel('Age')\n",
    "\n",
    "plt.legend()"
   ]
  },
  {
   "cell_type": "markdown",
   "id": "1b1883d9",
   "metadata": {},
   "source": [
    "## Access the Profile Data  \n",
    "These files provide snapshots of the full internal structure of the model star — i.e., variables such as radial coordinate 𝑟, interior mass 𝑚, temperature 𝑇 — at selected stages during its evolution.  Profiles are NOT saved for every model (they seem to be saved for about every 50 models, but I think this may vary depending on how fast models are changing). \n",
    "\n",
    "The profile data files are named `profileNNN.data`, and they are indexed in file `profiles.index` (basically, a lookup table).  This has three columns.  The first column lists model numbers for which profile files exist; and the third column gives the profile index number (don’t worry about the second column for now). Hence, you must scan the 'profiles.index' file for the model NEAREST your desired model, and from that find the profile index number (col 3) that matches.   \n",
    "\n",
    "To pick a profile to read, let’s demonstrate the process for the present-day Sun. First, find the model number corresponding to the index `i_pres` determined previously:"
   ]
  },
  {
   "cell_type": "code",
   "execution_count": 63,
   "id": "0756c075",
   "metadata": {},
   "outputs": [
    {
     "name": "stdout",
     "output_type": "stream",
     "text": [
      "Model number corresponding to present-day sun:  10078\n"
     ]
    }
   ],
   "source": [
    "print('Model number corresponding to present-day sun: ', i_pres)"
   ]
  },
  {
   "cell_type": "markdown",
   "id": "79a585ed",
   "metadata": {},
   "source": [
    "We need to find the model number that’s *closest* to the model number we've identified, and then read off the corresponding profile index. For instance, in the the sample MESA folder (provided with this notebook) we calculated (above) that model closest to the present-day sun was **10078**.  Open `profiles.data` in a text editor and scan it.  A snippet of the sample `profiles.dat` table shown below; we see that the nearest model is 10100, with corresponding profile index (col 3)  **208**:  \n",
    "\n",
    "       10000           2         206\n",
    "       10050           1         207\n",
    "       10100           1         208\n",
    "       10150           1         209\n",
    "       10200           1         210  "
   ]
  },
  {
   "cell_type": "markdown",
   "id": "73423ddf",
   "metadata": {},
   "source": [
    "### Access a profile by its index number\n",
    "As was the case with `hist_data`, we see that `prof_data` is a dict containing many key/value pairs"
   ]
  },
  {
   "cell_type": "code",
   "execution_count": 61,
   "id": "38977fe4",
   "metadata": {},
   "outputs": [
    {
     "name": "stdout",
     "output_type": "stream",
     "text": [
      "model_number\n",
      "num_zones\n",
      "initial_mass\n",
      "initial_z\n",
      "star_age\n",
      "time_step\n",
      "Teff\n",
      "photosphere_L\n",
      "photosphere_r\n",
      "center_eta\n",
      "center_h1\n",
      "center_he3\n",
      "center_he4\n",
      "center_c12\n",
      "center_n14\n",
      "center_o16\n",
      "center_ne20\n",
      "star_mass\n",
      "star_mdot\n",
      "star_mass_h1\n",
      "star_mass_he3\n",
      "star_mass_he4\n",
      "star_mass_c12\n",
      "star_mass_n14\n",
      "star_mass_o16\n",
      "star_mass_ne20\n",
      "he_core_mass\n",
      "c_core_mass\n",
      "o_core_mass\n",
      "si_core_mass\n",
      "fe_core_mass\n",
      "neutron_rich_core_mass\n",
      "tau10_mass\n",
      "tau10_radius\n",
      "tau100_mass\n",
      "tau100_radius\n",
      "dynamic_time\n",
      "kh_timescale\n",
      "nuc_timescale\n",
      "power_nuc_burn\n",
      "power_h_burn\n",
      "power_he_burn\n",
      "power_neu\n",
      "burn_min1\n",
      "burn_min2\n",
      "time_seconds\n",
      "version_number\n",
      "compiler\n",
      "build\n",
      "MESA_SDK_version\n",
      "math_backend\n",
      "date\n",
      "mass\n",
      "radius\n",
      "luminosity\n",
      "pressure\n",
      "logRho\n",
      "logT\n",
      "energy\n",
      "entropy\n",
      "cp\n",
      "gamma1\n",
      "grada\n",
      "mu\n",
      "free_e\n",
      "ye\n",
      "pgas\n",
      "prad\n",
      "gradr\n",
      "gradT\n",
      "velocity\n",
      "conv_vel\n",
      "opacity\n",
      "eps_nuc\n",
      "pp\n",
      "cno\n",
      "tri_alfa\n",
      "eps_nuc_neu_total\n",
      "non_nuc_neu\n",
      "eps_grav\n",
      "h1\n",
      "he3\n",
      "he4\n",
      "c12\n",
      "n14\n",
      "o16\n",
      "ne20\n",
      "mg24\n",
      "si28\n",
      "s32\n",
      "ar36\n",
      "ca40\n",
      "ti44\n",
      "cr48\n",
      "fe52\n",
      "fe54\n",
      "fe56\n",
      "ni56\n",
      "eta\n",
      "log_omega\n",
      "v_rot\n",
      "j_rot\n",
      "dynamo_log_B_r\n",
      "dynamo_log_B_phi\n",
      "log_D_conv\n",
      "log_D_semi\n",
      "log_D_ovr\n",
      "log_D_thrm\n"
     ]
    }
   ],
   "source": [
    "mesaProfile = mesaPath / 'profile208.data'    #Change to your desired index number\n",
    "prof_data = mw.read_profile(mesaProfile)\n",
    "\n",
    "# Show all the keys available in the profile\n",
    "for k in prof_data.keys():  print(k)"
   ]
  },
  {
   "cell_type": "markdown",
   "id": "c89ce026",
   "metadata": {},
   "source": [
    "### Plot a profile  \n",
    "First, a simple plot showing how the pressure, density and temperature vary as a function of fractional radius 𝑟/𝑅\n",
    " throughout the star:"
   ]
  },
  {
   "cell_type": "code",
   "execution_count": null,
   "id": "d8275c07",
   "metadata": {},
   "outputs": [],
   "source": [
    "# Define constants\n",
    "\n",
    "RSUN = 6.957E10 # Solar radius, in cm\n",
    "MSUN = 1.989E33 # Solar mass, in g\n",
    "\n",
    "# Plot pressure, density and temperature versus fractional radius\n",
    "\n",
    "P = prof_data['pressure']\n",
    "rho = 10**prof_data['logRho']\n",
    "T = 10**prof_data['logT']\n",
    "\n",
    "r = prof_data['radius']*RSUN        # Convert radii to cm\n",
    "R = prof_data['photosphere_r']*RSUN # Same\n",
    "\n",
    "plt.figure()\n",
    "\n",
    "plt.plot(r/R, P, color='r', label='P (dyn/cm^2)')\n",
    "plt.plot(r/R, rho, color='g', label='rho (g/cm^3)')\n",
    "plt.plot(r/R, T, color='b', label='T (K)')\n",
    "\n",
    "plt.xlabel('r/R')\n",
    "\n",
    "plt.yscale('log')\n",
    "\n",
    "plt.legend()"
   ]
  },
  {
   "cell_type": "markdown",
   "id": "0cbce613",
   "metadata": {},
   "source": [
    "### Plot abundances versus fractional mass\n",
    "We’re not limited to having radius on the horizontal axis; we can use any variable we like. Here a plot of the hydrogen, helium, carbon and nitrogen mass fractions versus fractional mass 𝑚/𝑀:"
   ]
  },
  {
   "cell_type": "code",
   "execution_count": null,
   "id": "daf7193c",
   "metadata": {},
   "outputs": [],
   "source": [
    "# Plot abundances versus fractional mass\n",
    "\n",
    "X = prof_data['h1']\n",
    "Y = prof_data['he4']\n",
    "Z_C12 = prof_data['c12']\n",
    "Z_N14 = prof_data['n14']\n",
    "\n",
    "m = prof_data['mass']*MSUN      # Convert masses to g\n",
    "M = prof_data['star_mass']*MSUN # Same\n",
    "\n",
    "plt.figure()\n",
    "\n",
    "plt.plot(m/M, X, color='r', label='X')\n",
    "plt.plot(m/M, Y, color='g', label='Y')\n",
    "plt.plot(m/M, Z_C12, color='b', label='Z_C12')\n",
    "plt.plot(m/M, Z_N14, color='m', label='Z_N14')\n",
    "\n",
    "plt.xlabel('m/M')\n",
    "\n",
    "plt.yscale('log')\n",
    "\n",
    "plt.legend()"
   ]
  },
  {
   "cell_type": "markdown",
   "id": "2c3699be",
   "metadata": {},
   "source": [
    "## Analyze a profile  \n",
    "let’s see if we can confirm that the model for the present-day Sun satisfies the hydrostatic equilibrium equation\n",
    "\n",
    "d𝑃d𝑟=−𝐺𝑚𝑟2𝜌.\n",
    "First, let’s calculate the left-hand and right-hand sides of this equation. To evaluate the pressure gradient, we can use the np.gradient function, which uses finite differences to evaluate a numerical gradient estimate:"
   ]
  },
  {
   "cell_type": "code",
   "execution_count": 26,
   "id": "0ef0d32b",
   "metadata": {},
   "outputs": [],
   "source": [
    "# Define constants\n",
    "\n",
    "G = 6.674E-8 # Gravitational constant, in cm^3/g/s^2\n",
    "\n",
    "# Evaluate lhs and rhs of the hydrostatic equilibrium equation\n",
    "\n",
    "lhs = np.gradient(P, r)\n",
    "\n",
    "rhs = -G*m/r**2 * rho"
   ]
  },
  {
   "cell_type": "code",
   "execution_count": 27,
   "id": "d4f5e3e0",
   "metadata": {},
   "outputs": [
    {
     "data": {
      "text/plain": [
       "<matplotlib.legend.Legend at 0x1c4e5005b40>"
      ]
     },
     "execution_count": 27,
     "metadata": {},
     "output_type": "execute_result"
    },
    {
     "data": {
      "image/png": "[encoded data removed]",
      "text/plain": [
       "<Figure size 640x480 with 1 Axes>"
      ]
     },
     "metadata": {},
     "output_type": "display_data"
    }
   ],
   "source": [
    "# Plot the lhs and rhs of the hydrostatic equilibrium equation\n",
    "\n",
    "plt.figure()\n",
    "\n",
    "plt.plot(r/R, lhs, color='b', label='lhs')\n",
    "plt.plot(r/R, rhs, color='r', label='rhs', dashes=(2,1))\n",
    "\n",
    "plt.xlabel('r/R')\n",
    "\n",
    "plt.legend()"
   ]
  },
  {
   "cell_type": "markdown",
   "id": "07d09150",
   "metadata": {},
   "source": [
    "### Autmatically Search the profile index\n",
    "\n",
    "Automate the process of looking up the nearest model to a target model, extracting the profile number, and opening it.  We open `profiles.index` and read it into a `dataframe`, then search the dataframe for the nearest model to our target model, then use that to extract the corresponding profile.  \n",
    "\n",
    "For a target model, we'll re-do the calculation from way above to find a model closest to the present-day sun:"
   ]
  },
  {
   "cell_type": "code",
   "execution_count": 88,
   "id": "358d25ba",
   "metadata": {},
   "outputs": [
    {
     "name": "stdout",
     "output_type": "stream",
     "text": [
      "Model number corresponding to present-day sun:  10078\n"
     ]
    }
   ],
   "source": [
    "log_LH = hist_data['log_LH']\n",
    "target_model = np.argmin(np.abs(log_LH))  # np.argmin() returns the index of the smallest element\n",
    "print('Model number corresponding to present-day sun: ', target_model)"
   ]
  },
  {
   "cell_type": "code",
   "execution_count": 89,
   "id": "14f2f70a",
   "metadata": {},
   "outputs": [
    {
     "data": {
      "text/html": [
       "<div>\n",
       "<style scoped>\n",
       "    .dataframe tbody tr th:only-of-type {\n",
       "        vertical-align: middle;\n",
       "    }\n",
       "\n",
       "    .dataframe tbody tr th {\n",
       "        vertical-align: top;\n",
       "    }\n",
       "\n",
       "    .dataframe thead th {\n",
       "        text-align: right;\n",
       "    }\n",
       "</style>\n",
       "<table border=\"1\" class=\"dataframe\">\n",
       "  <thead>\n",
       "    <tr style=\"text-align: right;\">\n",
       "      <th></th>\n",
       "      <th>Model</th>\n",
       "      <th>X</th>\n",
       "      <th>Profile</th>\n",
       "    </tr>\n",
       "  </thead>\n",
       "  <tbody>\n",
       "    <tr>\n",
       "      <th>0</th>\n",
       "      <td>1</td>\n",
       "      <td>2</td>\n",
       "      <td>1</td>\n",
       "    </tr>\n",
       "    <tr>\n",
       "      <th>1</th>\n",
       "      <td>50</td>\n",
       "      <td>1</td>\n",
       "      <td>2</td>\n",
       "    </tr>\n",
       "    <tr>\n",
       "      <th>2</th>\n",
       "      <td>100</td>\n",
       "      <td>1</td>\n",
       "      <td>3</td>\n",
       "    </tr>\n",
       "    <tr>\n",
       "      <th>3</th>\n",
       "      <td>150</td>\n",
       "      <td>1</td>\n",
       "      <td>4</td>\n",
       "    </tr>\n",
       "    <tr>\n",
       "      <th>4</th>\n",
       "      <td>200</td>\n",
       "      <td>1</td>\n",
       "      <td>5</td>\n",
       "    </tr>\n",
       "  </tbody>\n",
       "</table>\n",
       "</div>"
      ],
      "text/plain": [
       "   Model  X  Profile\n",
       "0      1  2        1\n",
       "1     50  1        2\n",
       "2    100  1        3\n",
       "3    150  1        4\n",
       "4    200  1        5"
      ]
     },
     "execution_count": 89,
     "metadata": {},
     "output_type": "execute_result"
    }
   ],
   "source": [
    "# Read the index file into a Pandas dataframe\n",
    "mesaIndex = mesaPath / 'profiles.index'\n",
    "colnames=['Model', 'X', 'Profile'] \n",
    "profile_df = pd.read_csv(mesaIndex, delim_whitespace=True,skiprows=[0], names=colnames, header=None)\n",
    "profile_df.head()"
   ]
  },
  {
   "cell_type": "code",
   "execution_count": 90,
   "id": "dbbdc10a",
   "metadata": {},
   "outputs": [
    {
     "data": {
      "text/html": [
       "<div>\n",
       "<style scoped>\n",
       "    .dataframe tbody tr th:only-of-type {\n",
       "        vertical-align: middle;\n",
       "    }\n",
       "\n",
       "    .dataframe tbody tr th {\n",
       "        vertical-align: top;\n",
       "    }\n",
       "\n",
       "    .dataframe thead th {\n",
       "        text-align: right;\n",
       "    }\n",
       "</style>\n",
       "<table border=\"1\" class=\"dataframe\">\n",
       "  <thead>\n",
       "    <tr style=\"text-align: right;\">\n",
       "      <th></th>\n",
       "      <th>Model</th>\n",
       "      <th>X</th>\n",
       "      <th>Profile</th>\n",
       "    </tr>\n",
       "  </thead>\n",
       "  <tbody>\n",
       "    <tr>\n",
       "      <th>207</th>\n",
       "      <td>10100</td>\n",
       "      <td>1</td>\n",
       "      <td>208</td>\n",
       "    </tr>\n",
       "  </tbody>\n",
       "</table>\n",
       "</div>"
      ],
      "text/plain": [
       "     Model  X  Profile\n",
       "207  10100  1      208"
      ]
     },
     "execution_count": 90,
     "metadata": {},
     "output_type": "execute_result"
    }
   ],
   "source": [
    "# Find nearest row in the dataframe corresponding\n",
    "df_closest = profile_df.iloc[(profile_df['Model']-target_model).abs().argsort()[:1]]\n",
    "df_closest"
   ]
  },
  {
   "cell_type": "code",
   "execution_count": 91,
   "id": "11ecf9fb",
   "metadata": {},
   "outputs": [],
   "source": [
    "#  Extract the Profile.  Currently a dog's breakfast of code, but it works.  Elegance to come.\n",
    "pnum=str(df_closest['Profile'].tolist()[0])"
   ]
  },
  {
   "cell_type": "code",
   "execution_count": 92,
   "id": "843fb768",
   "metadata": {},
   "outputs": [],
   "source": [
    "# Create the filename and read in the specific profile for nearest target model:\n",
    "p_file = 'profile' + pnum + '.data'\n",
    "mesaProfile = mesaPath / p_file    #Change to your desired index number\n",
    "\n",
    "prof_data = mw.read_profile(mesaProfile)"
   ]
  },
  {
   "cell_type": "code",
   "execution_count": 93,
   "id": "ad7fc869",
   "metadata": {},
   "outputs": [
    {
     "name": "stdout",
     "output_type": "stream",
     "text": [
      "Length of profile (show success): 108\n"
     ]
    }
   ],
   "source": [
    "print('Length of profile (show success):', len(prof_data))"
   ]
  },
  {
   "cell_type": "code",
   "execution_count": null,
   "id": "7663dbe9",
   "metadata": {},
   "outputs": [],
   "source": []
  }
 ],
 "metadata": {
  "kernelspec": {
   "display_name": "astro",
   "language": "python",
   "name": "astro"
  },
  "language_info": {
   "codemirror_mode": {
    "name": "ipython",
    "version": 3
   },
   "file_extension": ".py",
   "mimetype": "text/x-python",
   "name": "python",
   "nbconvert_exporter": "python",
   "pygments_lexer": "ipython3",
   "version": "3.10.9"
  }
 },
 "nbformat": 4,
 "nbformat_minor": 5
}
